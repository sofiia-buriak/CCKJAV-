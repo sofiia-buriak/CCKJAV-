{
  "nbformat": 4,
  "nbformat_minor": 0,
  "metadata": {
    "colab": {
      "provenance": []
    },
    "kernelspec": {
      "name": "python3",
      "display_name": "Python 3"
    },
    "language_info": {
      "name": "python"
    }
  },
  "cells": [
    {
      "cell_type": "markdown",
      "source": [
        "# Setup and Data Import"
      ],
      "metadata": {
        "id": "3EoN91WqQFFu"
      }
    },
    {
      "cell_type": "code",
      "source": [
        "from google.colab import drive\n",
        "import pandas as pd\n",
        "import matplotlib.pyplot as plt\n",
        "import numpy as np\n",
        "from pathlib import Path\n",
        "\n",
        "drive.mount('/content/drive/')"
      ],
      "metadata": {
        "colab": {
          "base_uri": "https://localhost:8080/"
        },
        "id": "ztf9adMu9iDH",
        "outputId": "bea16098-4a79-46d1-c707-efaec5cda415"
      },
      "execution_count": 1,
      "outputs": [
        {
          "output_type": "stream",
          "name": "stdout",
          "text": [
            "Drive already mounted at /content/drive/; to attempt to forcibly remount, call drive.mount(\"/content/drive/\", force_remount=True).\n"
          ]
        }
      ]
    },
    {
      "cell_type": "code",
      "source": [
        "def load_data(filename: str) -> pd.DataFrame:\n",
        "    candidates = [\n",
        "        Path(filename),\n",
        "        Path(\"data\") / filename,\n",
        "        Path.cwd() / filename,\n",
        "        Path.cwd() / \"data\" / filename,\n",
        "        Path(\"/content/drive/MyDrive/NASA_Challenge/data\") / filename\n",
        "    ]\n",
        "\n",
        "    for path in candidates:\n",
        "        if path.exists():\n",
        "            print(f\"Loading: {path}\")\n",
        "            return pd.read_csv(path, comment=\"#\")\n",
        "\n",
        "    raise FileNotFoundError(\n",
        "        f\"File '{filename}' not found in any of:\\n\" + \"\\n\".join(str(p) for p in candidates)\n",
        "    )\n"
      ],
      "metadata": {
        "id": "0gSC1hI7Ch6L"
      },
      "execution_count": 2,
      "outputs": []
    },
    {
      "cell_type": "code",
      "source": [
        "def save_data(df: pd.DataFrame, filename: str):\n",
        "    candidates = [\n",
        "        Path(\"/content/drive/MyDrive/NASA_Challenge/data\"),\n",
        "        Path(\"data\")\n",
        "    ]\n",
        "\n",
        "    for base in candidates:\n",
        "        try:\n",
        "            base.mkdir(parents=True, exist_ok=True)\n",
        "            out_path = base / filename\n",
        "            df.to_csv(out_path, index=False)\n",
        "            print(f\"File saved to: {out_path}\")\n",
        "            return\n",
        "        except Exception as e:\n",
        "            print(f\"Could not save to {base}: {e}\")\n",
        "\n",
        "    raise IOError(\"Failed to save the file in any of the candidate locations.\")\n"
      ],
      "metadata": {
        "id": "DgdkjXr7Bqp7"
      },
      "execution_count": 3,
      "outputs": []
    },
    {
      "cell_type": "markdown",
      "source": [
        "# Core dataset for Model\n",
        "\n",
        "\n"
      ],
      "metadata": {
        "id": "8Aad2S8GNain"
      }
    },
    {
      "cell_type": "markdown",
      "source": [
        "## Select minimal set of relevant columns"
      ],
      "metadata": {
        "id": "_dwzv9SANimn"
      }
    },
    {
      "cell_type": "code",
      "source": [
        "koi = load_data(\"raw/KOI_raw_2025.10.01.csv\")\n",
        "\n",
        "needed_cols = [\n",
        "    \"kepoi_name\",\n",
        "    \"koi_disposition\",\n",
        "    \"koi_period\",\n",
        "    \"koi_duration\",\n",
        "    \"koi_depth\",\n",
        "    \"koi_prad\",\n",
        "    \"koi_steff\",\n",
        "    \"koi_slogg\",\n",
        "    \"koi_srad\",\n",
        "    \"koi_kepmag\"\n",
        "]\n",
        "\n",
        "koi_learning = koi[needed_cols].copy()\n",
        "koi_learning"
      ],
      "metadata": {
        "id": "tZtAzTeQN3p1",
        "colab": {
          "base_uri": "https://localhost:8080/",
          "height": 441
        },
        "outputId": "ff9d8a3b-5680-42a7-ab56-bddab29617fb"
      },
      "execution_count": 4,
      "outputs": [
        {
          "output_type": "stream",
          "name": "stdout",
          "text": [
            "Loading: /content/drive/MyDrive/NASA_Challenge/data/raw/KOI_raw_2025.10.01.csv\n"
          ]
        },
        {
          "output_type": "execute_result",
          "data": {
            "text/plain": [
              "     kepoi_name koi_disposition  koi_period  koi_duration  koi_depth  \\\n",
              "0     K00752.01       CONFIRMED    9.488036       2.95750      615.8   \n",
              "1     K00752.02       CONFIRMED   54.418383       4.50700      874.8   \n",
              "2     K00753.01       CANDIDATE   19.899140       1.78220    10829.0   \n",
              "3     K00754.01  FALSE POSITIVE    1.736952       2.40641     8079.2   \n",
              "4     K00755.01       CONFIRMED    2.525592       1.65450      603.3   \n",
              "...         ...             ...         ...           ...        ...   \n",
              "9559  K07985.01  FALSE POSITIVE    0.527699       3.22210     1579.2   \n",
              "9560  K07986.01       CANDIDATE    1.739849       3.11400       48.5   \n",
              "9561  K07987.01  FALSE POSITIVE    0.681402       0.86500      103.6   \n",
              "9562  K07988.01       CANDIDATE  333.486169       3.19900      639.1   \n",
              "9563  K07989.01  FALSE POSITIVE    4.856035       3.07800       76.7   \n",
              "\n",
              "      koi_prad  koi_steff  koi_slogg  koi_srad  koi_kepmag  \n",
              "0         2.26     5455.0      4.467     0.927      15.347  \n",
              "1         2.83     5455.0      4.467     0.927      15.347  \n",
              "2        14.60     5853.0      4.544     0.868      15.436  \n",
              "3        33.46     5805.0      4.564     0.791      15.597  \n",
              "4         2.75     6031.0      4.438     1.046      15.509  \n",
              "...        ...        ...        ...       ...         ...  \n",
              "9559     29.35     5638.0      4.529     0.903      14.082  \n",
              "9560      0.72     6119.0      4.444     1.031      14.757  \n",
              "9561      1.07     6173.0      4.447     1.041      15.385  \n",
              "9562     19.30     4989.0      2.992     7.824      10.998  \n",
              "9563      1.05     6469.0      4.385     1.193      14.826  \n",
              "\n",
              "[9564 rows x 10 columns]"
            ],
            "text/html": [
              "\n",
              "  <div id=\"df-77df9ec8-d9ec-4717-b4d2-79d3a8bda67a\" class=\"colab-df-container\">\n",
              "    <div>\n",
              "<style scoped>\n",
              "    .dataframe tbody tr th:only-of-type {\n",
              "        vertical-align: middle;\n",
              "    }\n",
              "\n",
              "    .dataframe tbody tr th {\n",
              "        vertical-align: top;\n",
              "    }\n",
              "\n",
              "    .dataframe thead th {\n",
              "        text-align: right;\n",
              "    }\n",
              "</style>\n",
              "<table border=\"1\" class=\"dataframe\">\n",
              "  <thead>\n",
              "    <tr style=\"text-align: right;\">\n",
              "      <th></th>\n",
              "      <th>kepoi_name</th>\n",
              "      <th>koi_disposition</th>\n",
              "      <th>koi_period</th>\n",
              "      <th>koi_duration</th>\n",
              "      <th>koi_depth</th>\n",
              "      <th>koi_prad</th>\n",
              "      <th>koi_steff</th>\n",
              "      <th>koi_slogg</th>\n",
              "      <th>koi_srad</th>\n",
              "      <th>koi_kepmag</th>\n",
              "    </tr>\n",
              "  </thead>\n",
              "  <tbody>\n",
              "    <tr>\n",
              "      <th>0</th>\n",
              "      <td>K00752.01</td>\n",
              "      <td>CONFIRMED</td>\n",
              "      <td>9.488036</td>\n",
              "      <td>2.95750</td>\n",
              "      <td>615.8</td>\n",
              "      <td>2.26</td>\n",
              "      <td>5455.0</td>\n",
              "      <td>4.467</td>\n",
              "      <td>0.927</td>\n",
              "      <td>15.347</td>\n",
              "    </tr>\n",
              "    <tr>\n",
              "      <th>1</th>\n",
              "      <td>K00752.02</td>\n",
              "      <td>CONFIRMED</td>\n",
              "      <td>54.418383</td>\n",
              "      <td>4.50700</td>\n",
              "      <td>874.8</td>\n",
              "      <td>2.83</td>\n",
              "      <td>5455.0</td>\n",
              "      <td>4.467</td>\n",
              "      <td>0.927</td>\n",
              "      <td>15.347</td>\n",
              "    </tr>\n",
              "    <tr>\n",
              "      <th>2</th>\n",
              "      <td>K00753.01</td>\n",
              "      <td>CANDIDATE</td>\n",
              "      <td>19.899140</td>\n",
              "      <td>1.78220</td>\n",
              "      <td>10829.0</td>\n",
              "      <td>14.60</td>\n",
              "      <td>5853.0</td>\n",
              "      <td>4.544</td>\n",
              "      <td>0.868</td>\n",
              "      <td>15.436</td>\n",
              "    </tr>\n",
              "    <tr>\n",
              "      <th>3</th>\n",
              "      <td>K00754.01</td>\n",
              "      <td>FALSE POSITIVE</td>\n",
              "      <td>1.736952</td>\n",
              "      <td>2.40641</td>\n",
              "      <td>8079.2</td>\n",
              "      <td>33.46</td>\n",
              "      <td>5805.0</td>\n",
              "      <td>4.564</td>\n",
              "      <td>0.791</td>\n",
              "      <td>15.597</td>\n",
              "    </tr>\n",
              "    <tr>\n",
              "      <th>4</th>\n",
              "      <td>K00755.01</td>\n",
              "      <td>CONFIRMED</td>\n",
              "      <td>2.525592</td>\n",
              "      <td>1.65450</td>\n",
              "      <td>603.3</td>\n",
              "      <td>2.75</td>\n",
              "      <td>6031.0</td>\n",
              "      <td>4.438</td>\n",
              "      <td>1.046</td>\n",
              "      <td>15.509</td>\n",
              "    </tr>\n",
              "    <tr>\n",
              "      <th>...</th>\n",
              "      <td>...</td>\n",
              "      <td>...</td>\n",
              "      <td>...</td>\n",
              "      <td>...</td>\n",
              "      <td>...</td>\n",
              "      <td>...</td>\n",
              "      <td>...</td>\n",
              "      <td>...</td>\n",
              "      <td>...</td>\n",
              "      <td>...</td>\n",
              "    </tr>\n",
              "    <tr>\n",
              "      <th>9559</th>\n",
              "      <td>K07985.01</td>\n",
              "      <td>FALSE POSITIVE</td>\n",
              "      <td>0.527699</td>\n",
              "      <td>3.22210</td>\n",
              "      <td>1579.2</td>\n",
              "      <td>29.35</td>\n",
              "      <td>5638.0</td>\n",
              "      <td>4.529</td>\n",
              "      <td>0.903</td>\n",
              "      <td>14.082</td>\n",
              "    </tr>\n",
              "    <tr>\n",
              "      <th>9560</th>\n",
              "      <td>K07986.01</td>\n",
              "      <td>CANDIDATE</td>\n",
              "      <td>1.739849</td>\n",
              "      <td>3.11400</td>\n",
              "      <td>48.5</td>\n",
              "      <td>0.72</td>\n",
              "      <td>6119.0</td>\n",
              "      <td>4.444</td>\n",
              "      <td>1.031</td>\n",
              "      <td>14.757</td>\n",
              "    </tr>\n",
              "    <tr>\n",
              "      <th>9561</th>\n",
              "      <td>K07987.01</td>\n",
              "      <td>FALSE POSITIVE</td>\n",
              "      <td>0.681402</td>\n",
              "      <td>0.86500</td>\n",
              "      <td>103.6</td>\n",
              "      <td>1.07</td>\n",
              "      <td>6173.0</td>\n",
              "      <td>4.447</td>\n",
              "      <td>1.041</td>\n",
              "      <td>15.385</td>\n",
              "    </tr>\n",
              "    <tr>\n",
              "      <th>9562</th>\n",
              "      <td>K07988.01</td>\n",
              "      <td>CANDIDATE</td>\n",
              "      <td>333.486169</td>\n",
              "      <td>3.19900</td>\n",
              "      <td>639.1</td>\n",
              "      <td>19.30</td>\n",
              "      <td>4989.0</td>\n",
              "      <td>2.992</td>\n",
              "      <td>7.824</td>\n",
              "      <td>10.998</td>\n",
              "    </tr>\n",
              "    <tr>\n",
              "      <th>9563</th>\n",
              "      <td>K07989.01</td>\n",
              "      <td>FALSE POSITIVE</td>\n",
              "      <td>4.856035</td>\n",
              "      <td>3.07800</td>\n",
              "      <td>76.7</td>\n",
              "      <td>1.05</td>\n",
              "      <td>6469.0</td>\n",
              "      <td>4.385</td>\n",
              "      <td>1.193</td>\n",
              "      <td>14.826</td>\n",
              "    </tr>\n",
              "  </tbody>\n",
              "</table>\n",
              "<p>9564 rows × 10 columns</p>\n",
              "</div>\n",
              "    <div class=\"colab-df-buttons\">\n",
              "\n",
              "  <div class=\"colab-df-container\">\n",
              "    <button class=\"colab-df-convert\" onclick=\"convertToInteractive('df-77df9ec8-d9ec-4717-b4d2-79d3a8bda67a')\"\n",
              "            title=\"Convert this dataframe to an interactive table.\"\n",
              "            style=\"display:none;\">\n",
              "\n",
              "  <svg xmlns=\"http://www.w3.org/2000/svg\" height=\"24px\" viewBox=\"0 -960 960 960\">\n",
              "    <path d=\"M120-120v-720h720v720H120Zm60-500h600v-160H180v160Zm220 220h160v-160H400v160Zm0 220h160v-160H400v160ZM180-400h160v-160H180v160Zm440 0h160v-160H620v160ZM180-180h160v-160H180v160Zm440 0h160v-160H620v160Z\"/>\n",
              "  </svg>\n",
              "    </button>\n",
              "\n",
              "  <style>\n",
              "    .colab-df-container {\n",
              "      display:flex;\n",
              "      gap: 12px;\n",
              "    }\n",
              "\n",
              "    .colab-df-convert {\n",
              "      background-color: #E8F0FE;\n",
              "      border: none;\n",
              "      border-radius: 50%;\n",
              "      cursor: pointer;\n",
              "      display: none;\n",
              "      fill: #1967D2;\n",
              "      height: 32px;\n",
              "      padding: 0 0 0 0;\n",
              "      width: 32px;\n",
              "    }\n",
              "\n",
              "    .colab-df-convert:hover {\n",
              "      background-color: #E2EBFA;\n",
              "      box-shadow: 0px 1px 2px rgba(60, 64, 67, 0.3), 0px 1px 3px 1px rgba(60, 64, 67, 0.15);\n",
              "      fill: #174EA6;\n",
              "    }\n",
              "\n",
              "    .colab-df-buttons div {\n",
              "      margin-bottom: 4px;\n",
              "    }\n",
              "\n",
              "    [theme=dark] .colab-df-convert {\n",
              "      background-color: #3B4455;\n",
              "      fill: #D2E3FC;\n",
              "    }\n",
              "\n",
              "    [theme=dark] .colab-df-convert:hover {\n",
              "      background-color: #434B5C;\n",
              "      box-shadow: 0px 1px 3px 1px rgba(0, 0, 0, 0.15);\n",
              "      filter: drop-shadow(0px 1px 2px rgba(0, 0, 0, 0.3));\n",
              "      fill: #FFFFFF;\n",
              "    }\n",
              "  </style>\n",
              "\n",
              "    <script>\n",
              "      const buttonEl =\n",
              "        document.querySelector('#df-77df9ec8-d9ec-4717-b4d2-79d3a8bda67a button.colab-df-convert');\n",
              "      buttonEl.style.display =\n",
              "        google.colab.kernel.accessAllowed ? 'block' : 'none';\n",
              "\n",
              "      async function convertToInteractive(key) {\n",
              "        const element = document.querySelector('#df-77df9ec8-d9ec-4717-b4d2-79d3a8bda67a');\n",
              "        const dataTable =\n",
              "          await google.colab.kernel.invokeFunction('convertToInteractive',\n",
              "                                                    [key], {});\n",
              "        if (!dataTable) return;\n",
              "\n",
              "        const docLinkHtml = 'Like what you see? Visit the ' +\n",
              "          '<a target=\"_blank\" href=https://colab.research.google.com/notebooks/data_table.ipynb>data table notebook</a>'\n",
              "          + ' to learn more about interactive tables.';\n",
              "        element.innerHTML = '';\n",
              "        dataTable['output_type'] = 'display_data';\n",
              "        await google.colab.output.renderOutput(dataTable, element);\n",
              "        const docLink = document.createElement('div');\n",
              "        docLink.innerHTML = docLinkHtml;\n",
              "        element.appendChild(docLink);\n",
              "      }\n",
              "    </script>\n",
              "  </div>\n",
              "\n",
              "\n",
              "    <div id=\"df-3d3a02ab-a3ef-4584-9cc8-09bd97cc7f6d\">\n",
              "      <button class=\"colab-df-quickchart\" onclick=\"quickchart('df-3d3a02ab-a3ef-4584-9cc8-09bd97cc7f6d')\"\n",
              "                title=\"Suggest charts\"\n",
              "                style=\"display:none;\">\n",
              "\n",
              "<svg xmlns=\"http://www.w3.org/2000/svg\" height=\"24px\"viewBox=\"0 0 24 24\"\n",
              "     width=\"24px\">\n",
              "    <g>\n",
              "        <path d=\"M19 3H5c-1.1 0-2 .9-2 2v14c0 1.1.9 2 2 2h14c1.1 0 2-.9 2-2V5c0-1.1-.9-2-2-2zM9 17H7v-7h2v7zm4 0h-2V7h2v10zm4 0h-2v-4h2v4z\"/>\n",
              "    </g>\n",
              "</svg>\n",
              "      </button>\n",
              "\n",
              "<style>\n",
              "  .colab-df-quickchart {\n",
              "      --bg-color: #E8F0FE;\n",
              "      --fill-color: #1967D2;\n",
              "      --hover-bg-color: #E2EBFA;\n",
              "      --hover-fill-color: #174EA6;\n",
              "      --disabled-fill-color: #AAA;\n",
              "      --disabled-bg-color: #DDD;\n",
              "  }\n",
              "\n",
              "  [theme=dark] .colab-df-quickchart {\n",
              "      --bg-color: #3B4455;\n",
              "      --fill-color: #D2E3FC;\n",
              "      --hover-bg-color: #434B5C;\n",
              "      --hover-fill-color: #FFFFFF;\n",
              "      --disabled-bg-color: #3B4455;\n",
              "      --disabled-fill-color: #666;\n",
              "  }\n",
              "\n",
              "  .colab-df-quickchart {\n",
              "    background-color: var(--bg-color);\n",
              "    border: none;\n",
              "    border-radius: 50%;\n",
              "    cursor: pointer;\n",
              "    display: none;\n",
              "    fill: var(--fill-color);\n",
              "    height: 32px;\n",
              "    padding: 0;\n",
              "    width: 32px;\n",
              "  }\n",
              "\n",
              "  .colab-df-quickchart:hover {\n",
              "    background-color: var(--hover-bg-color);\n",
              "    box-shadow: 0 1px 2px rgba(60, 64, 67, 0.3), 0 1px 3px 1px rgba(60, 64, 67, 0.15);\n",
              "    fill: var(--button-hover-fill-color);\n",
              "  }\n",
              "\n",
              "  .colab-df-quickchart-complete:disabled,\n",
              "  .colab-df-quickchart-complete:disabled:hover {\n",
              "    background-color: var(--disabled-bg-color);\n",
              "    fill: var(--disabled-fill-color);\n",
              "    box-shadow: none;\n",
              "  }\n",
              "\n",
              "  .colab-df-spinner {\n",
              "    border: 2px solid var(--fill-color);\n",
              "    border-color: transparent;\n",
              "    border-bottom-color: var(--fill-color);\n",
              "    animation:\n",
              "      spin 1s steps(1) infinite;\n",
              "  }\n",
              "\n",
              "  @keyframes spin {\n",
              "    0% {\n",
              "      border-color: transparent;\n",
              "      border-bottom-color: var(--fill-color);\n",
              "      border-left-color: var(--fill-color);\n",
              "    }\n",
              "    20% {\n",
              "      border-color: transparent;\n",
              "      border-left-color: var(--fill-color);\n",
              "      border-top-color: var(--fill-color);\n",
              "    }\n",
              "    30% {\n",
              "      border-color: transparent;\n",
              "      border-left-color: var(--fill-color);\n",
              "      border-top-color: var(--fill-color);\n",
              "      border-right-color: var(--fill-color);\n",
              "    }\n",
              "    40% {\n",
              "      border-color: transparent;\n",
              "      border-right-color: var(--fill-color);\n",
              "      border-top-color: var(--fill-color);\n",
              "    }\n",
              "    60% {\n",
              "      border-color: transparent;\n",
              "      border-right-color: var(--fill-color);\n",
              "    }\n",
              "    80% {\n",
              "      border-color: transparent;\n",
              "      border-right-color: var(--fill-color);\n",
              "      border-bottom-color: var(--fill-color);\n",
              "    }\n",
              "    90% {\n",
              "      border-color: transparent;\n",
              "      border-bottom-color: var(--fill-color);\n",
              "    }\n",
              "  }\n",
              "</style>\n",
              "\n",
              "      <script>\n",
              "        async function quickchart(key) {\n",
              "          const quickchartButtonEl =\n",
              "            document.querySelector('#' + key + ' button');\n",
              "          quickchartButtonEl.disabled = true;  // To prevent multiple clicks.\n",
              "          quickchartButtonEl.classList.add('colab-df-spinner');\n",
              "          try {\n",
              "            const charts = await google.colab.kernel.invokeFunction(\n",
              "                'suggestCharts', [key], {});\n",
              "          } catch (error) {\n",
              "            console.error('Error during call to suggestCharts:', error);\n",
              "          }\n",
              "          quickchartButtonEl.classList.remove('colab-df-spinner');\n",
              "          quickchartButtonEl.classList.add('colab-df-quickchart-complete');\n",
              "        }\n",
              "        (() => {\n",
              "          let quickchartButtonEl =\n",
              "            document.querySelector('#df-3d3a02ab-a3ef-4584-9cc8-09bd97cc7f6d button');\n",
              "          quickchartButtonEl.style.display =\n",
              "            google.colab.kernel.accessAllowed ? 'block' : 'none';\n",
              "        })();\n",
              "      </script>\n",
              "    </div>\n",
              "    </div>\n",
              "  </div>\n"
            ],
            "application/vnd.google.colaboratory.intrinsic+json": {
              "type": "dataframe",
              "variable_name": "koi_learning",
              "summary": "{\n  \"name\": \"koi_learning\",\n  \"rows\": 9564,\n  \"fields\": [\n    {\n      \"column\": \"kepoi_name\",\n      \"properties\": {\n        \"dtype\": \"string\",\n        \"num_unique_values\": 9564,\n        \"samples\": [\n          \"K06884.01\",\n          \"K03395.01\",\n          \"K01751.01\"\n        ],\n        \"semantic_type\": \"\",\n        \"description\": \"\"\n      }\n    },\n    {\n      \"column\": \"koi_disposition\",\n      \"properties\": {\n        \"dtype\": \"category\",\n        \"num_unique_values\": 3,\n        \"samples\": [\n          \"CONFIRMED\",\n          \"CANDIDATE\",\n          \"FALSE POSITIVE\"\n        ],\n        \"semantic_type\": \"\",\n        \"description\": \"\"\n      }\n    },\n    {\n      \"column\": \"koi_period\",\n      \"properties\": {\n        \"dtype\": \"number\",\n        \"std\": 1334.7440460616708,\n        \"min\": 0.241842544,\n        \"max\": 129995.7784,\n        \"num_unique_values\": 9564,\n        \"samples\": [\n          2.42186898,\n          10.00506974,\n          8.689301216\n        ],\n        \"semantic_type\": \"\",\n        \"description\": \"\"\n      }\n    },\n    {\n      \"column\": \"koi_duration\",\n      \"properties\": {\n        \"dtype\": \"number\",\n        \"std\": 6.471553737253232,\n        \"min\": 0.052,\n        \"max\": 138.54,\n        \"num_unique_values\": 7834,\n        \"samples\": [\n          5.884,\n          7.5945,\n          3.4015\n        ],\n        \"semantic_type\": \"\",\n        \"description\": \"\"\n      }\n    },\n    {\n      \"column\": \"koi_depth\",\n      \"properties\": {\n        \"dtype\": \"number\",\n        \"std\": 82242.68314876726,\n        \"min\": 0.0,\n        \"max\": 1541400.0,\n        \"num_unique_values\": 6947,\n        \"samples\": [\n          738.0,\n          342.1,\n          557740.0\n        ],\n        \"semantic_type\": \"\",\n        \"description\": \"\"\n      }\n    },\n    {\n      \"column\": \"koi_prad\",\n      \"properties\": {\n        \"dtype\": \"number\",\n        \"std\": 3077.639126222184,\n        \"min\": 0.08,\n        \"max\": 200346.0,\n        \"num_unique_values\": 2988,\n        \"samples\": [\n          60.45,\n          19.31,\n          30.37\n        ],\n        \"semantic_type\": \"\",\n        \"description\": \"\"\n      }\n    },\n    {\n      \"column\": \"koi_steff\",\n      \"properties\": {\n        \"dtype\": \"number\",\n        \"std\": 796.8579473983364,\n        \"min\": 2661.0,\n        \"max\": 15896.0,\n        \"num_unique_values\": 2445,\n        \"samples\": [\n          5289.0,\n          3386.0,\n          6271.0\n        ],\n        \"semantic_type\": \"\",\n        \"description\": \"\"\n      }\n    },\n    {\n      \"column\": \"koi_slogg\",\n      \"properties\": {\n        \"dtype\": \"number\",\n        \"std\": 0.43260645728261754,\n        \"min\": 0.047,\n        \"max\": 5.364,\n        \"num_unique_values\": 1557,\n        \"samples\": [\n          1.549,\n          4.505,\n          4.558\n        ],\n        \"semantic_type\": \"\",\n        \"description\": \"\"\n      }\n    },\n    {\n      \"column\": \"koi_srad\",\n      \"properties\": {\n        \"dtype\": \"number\",\n        \"std\": 6.127184682008658,\n        \"min\": 0.109,\n        \"max\": 229.908,\n        \"num_unique_values\": 2289,\n        \"samples\": [\n          1.734,\n          1.042,\n          1.182\n        ],\n        \"semantic_type\": \"\",\n        \"description\": \"\"\n      }\n    },\n    {\n      \"column\": \"koi_kepmag\",\n      \"properties\": {\n        \"dtype\": \"number\",\n        \"std\": 1.3854481254820719,\n        \"min\": 6.966,\n        \"max\": 20.003,\n        \"num_unique_values\": 3887,\n        \"samples\": [\n          14.511,\n          11.709,\n          13.048\n        ],\n        \"semantic_type\": \"\",\n        \"description\": \"\"\n      }\n    }\n  ]\n}"
            }
          },
          "metadata": {},
          "execution_count": 4
        }
      ]
    },
    {
      "cell_type": "code",
      "source": [
        "print(koi_learning.info())\n",
        "print(koi_learning.describe())\n"
      ],
      "metadata": {
        "id": "smWHBW6qQVMm",
        "colab": {
          "base_uri": "https://localhost:8080/"
        },
        "outputId": "d8b00e8f-37fc-4326-fc84-e68f8b70a170"
      },
      "execution_count": 5,
      "outputs": [
        {
          "output_type": "stream",
          "name": "stdout",
          "text": [
            "<class 'pandas.core.frame.DataFrame'>\n",
            "RangeIndex: 9564 entries, 0 to 9563\n",
            "Data columns (total 10 columns):\n",
            " #   Column           Non-Null Count  Dtype  \n",
            "---  ------           --------------  -----  \n",
            " 0   kepoi_name       9564 non-null   object \n",
            " 1   koi_disposition  9564 non-null   object \n",
            " 2   koi_period       9564 non-null   float64\n",
            " 3   koi_duration     9564 non-null   float64\n",
            " 4   koi_depth        9201 non-null   float64\n",
            " 5   koi_prad         9201 non-null   float64\n",
            " 6   koi_steff        9201 non-null   float64\n",
            " 7   koi_slogg        9201 non-null   float64\n",
            " 8   koi_srad         9201 non-null   float64\n",
            " 9   koi_kepmag       9563 non-null   float64\n",
            "dtypes: float64(8), object(2)\n",
            "memory usage: 747.3+ KB\n",
            "None\n",
            "          koi_period  koi_duration     koi_depth       koi_prad     koi_steff  \\\n",
            "count    9564.000000   9564.000000  9.201000e+03    9201.000000   9201.000000   \n",
            "mean       75.671358      5.621606  2.379134e+04     102.891778   5706.823280   \n",
            "std      1334.744046      6.471554  8.224268e+04    3077.639126    796.857947   \n",
            "min         0.241843      0.052000  0.000000e+00       0.080000   2661.000000   \n",
            "25%         2.733684      2.437750  1.599000e+02       1.400000   5310.000000   \n",
            "50%         9.752831      3.792600  4.211000e+02       2.390000   5767.000000   \n",
            "75%        40.715178      6.276500  1.473400e+03      14.930000   6112.000000   \n",
            "max    129995.778400    138.540000  1.541400e+06  200346.000000  15896.000000   \n",
            "\n",
            "         koi_slogg     koi_srad   koi_kepmag  \n",
            "count  9201.000000  9201.000000  9563.000000  \n",
            "mean      4.310157     1.728712    14.264606  \n",
            "std       0.432606     6.127185     1.385448  \n",
            "min       0.047000     0.109000     6.966000  \n",
            "25%       4.218000     0.829000    13.440000  \n",
            "50%       4.438000     1.000000    14.520000  \n",
            "75%       4.543000     1.345000    15.322000  \n",
            "max       5.364000   229.908000    20.003000  \n"
          ]
        }
      ]
    },
    {
      "cell_type": "markdown",
      "source": [
        "## Missing Value Handling"
      ],
      "metadata": {
        "id": "9oX3ypCoRZYa"
      }
    },
    {
      "cell_type": "code",
      "source": [
        "missing = koi_learning.isna().sum()\n",
        "missing_percent = (missing / len(koi_learning)) * 100\n",
        "\n",
        "missing_table = pd.DataFrame({\n",
        "    \"Missing Values\": missing,\n",
        "    \"Percent (%)\": missing_percent\n",
        "})\n",
        "\n",
        "print(missing_table)\n"
      ],
      "metadata": {
        "id": "4PxlkRvWRhlX",
        "colab": {
          "base_uri": "https://localhost:8080/"
        },
        "outputId": "3219d10f-7c2a-4ac4-8854-99ffd7e9acb2"
      },
      "execution_count": 6,
      "outputs": [
        {
          "output_type": "stream",
          "name": "stdout",
          "text": [
            "                 Missing Values  Percent (%)\n",
            "kepoi_name                    0     0.000000\n",
            "koi_disposition               0     0.000000\n",
            "koi_period                    0     0.000000\n",
            "koi_duration                  0     0.000000\n",
            "koi_depth                   363     3.795483\n",
            "koi_prad                    363     3.795483\n",
            "koi_steff                   363     3.795483\n",
            "koi_slogg                   363     3.795483\n",
            "koi_srad                    363     3.795483\n",
            "koi_kepmag                    1     0.010456\n"
          ]
        }
      ]
    },
    {
      "cell_type": "code",
      "source": [
        "# Drop single-row null (koi_kepmag)\n",
        "koi_learning = koi_learning.dropna(subset=[\"koi_kepmag\"]).copy()\n",
        "\n",
        "# Impute other columns with mode\n",
        "cols = [\"koi_depth\", \"koi_prad\", \"koi_srad\", \"koi_steff\", \"koi_slogg\"]\n",
        "\n",
        "for col in cols:\n",
        "    koi_learning.loc[:, f\"{col}_missing\"] = koi_learning[col].isna().astype(\"int8\")\n",
        "    koi_learning.loc[:, col] = koi_learning[col].fillna(koi_learning[col].mode()[0])\n",
        "\n",
        "save_data(koi_learning, \"cleaned/KOI_clean_for_learning.csv\")\n"
      ],
      "metadata": {
        "id": "N3W6CiGvUTa2",
        "colab": {
          "base_uri": "https://localhost:8080/"
        },
        "outputId": "6ba242f1-2f7f-4cae-ba78-9aa4b1e50039"
      },
      "execution_count": 7,
      "outputs": [
        {
          "output_type": "stream",
          "name": "stdout",
          "text": [
            "File saved to: /content/drive/MyDrive/NASA_Challenge/data/cleaned/KOI_clean_for_learning.csv\n"
          ]
        }
      ]
    },
    {
      "cell_type": "markdown",
      "source": [
        "## Outlier Handling"
      ],
      "metadata": {
        "id": "3ku6SC48Tcoi"
      }
    },
    {
      "cell_type": "code",
      "source": [
        "# Visualization of numeric columns to identify skewed distributions and potential outliers.\n",
        "num_cols = [\"koi_period\",\"koi_duration\",\"koi_depth\",\"koi_prad\",\n",
        "            \"koi_steff\",\"koi_slogg\",\"koi_srad\",\"koi_kepmag\"]\n",
        "\n",
        "plt.figure(figsize=(12,6))\n",
        "koi_learning[num_cols].plot(kind=\"box\", subplots=False, logy=True, figsize=(12,6))\n",
        "plt.title(\"Boxplot of numeric features\")\n",
        "plt.xticks(rotation=45)\n",
        "plt.show()\n"
      ],
      "metadata": {
        "id": "kVZ7TzfrXykC",
        "colab": {
          "base_uri": "https://localhost:8080/",
          "height": 618
        },
        "outputId": "17cfbaba-9d5b-4b42-88ee-7b778425ee72"
      },
      "execution_count": 8,
      "outputs": [
        {
          "output_type": "display_data",
          "data": {
            "text/plain": [
              "<Figure size 1200x600 with 0 Axes>"
            ]
          },
          "metadata": {}
        },
        {
          "output_type": "display_data",
          "data": {
            "text/plain": [
              "<Figure size 1200x600 with 1 Axes>"
            ],
            "image/png": "[encoded data removed]"
          },
          "metadata": {}
        }
      ]
    },
    {
      "cell_type": "code",
      "source": [
        "# Log Transformation of skewed features\n",
        "log_cols = [\"koi_period\", \"koi_depth\", \"koi_prad\", \"koi_srad\"]\n",
        "\n",
        "for col in log_cols:\n",
        "  koi_learning.loc[:, f\"{col}_log\"] = np.log1p(koi_learning[col])\n",
        "\n",
        "save_data(koi_learning, \"cleaned/KOI_clean_for_learning.csv\")"
      ],
      "metadata": {
        "id": "oqtiFSHC6gCe",
        "colab": {
          "base_uri": "https://localhost:8080/"
        },
        "outputId": "2e7d1998-8b99-496a-8526-486c7d918e6e"
      },
      "execution_count": 9,
      "outputs": [
        {
          "output_type": "stream",
          "name": "stdout",
          "text": [
            "File saved to: /content/drive/MyDrive/NASA_Challenge/data/cleaned/KOI_clean_for_learning.csv\n"
          ]
        }
      ]
    },
    {
      "cell_type": "code",
      "source": [
        "final_cols = [\"koi_period_log\", \"koi_duration\", \"koi_depth_log\", \"koi_prad_log\", \"koi_steff\",\n",
        "              \"koi_slogg\", \"koi_srad_log\", \"koi_kepmag\"]\n",
        "\n",
        "plt.figure(figsize=(12,6))\n",
        "koi_learning[final_cols].plot(kind=\"box\", logy=True, figsize=(12,6))\n",
        "plt.title(\"Boxplots after log-transformation\")\n",
        "plt.xticks(rotation=45)\n",
        "plt.show()"
      ],
      "metadata": {
        "id": "wpr9I-Aa9DNA",
        "colab": {
          "base_uri": "https://localhost:8080/",
          "height": 628
        },
        "outputId": "1daa6c3a-f1da-459a-bb3d-8d954d88d87c"
      },
      "execution_count": 10,
      "outputs": [
        {
          "output_type": "display_data",
          "data": {
            "text/plain": [
              "<Figure size 1200x600 with 0 Axes>"
            ]
          },
          "metadata": {}
        },
        {
          "output_type": "display_data",
          "data": {
            "text/plain": [
              "<Figure size 1200x600 with 1 Axes>"
            ],
            "image/png": "[encoded data removed]"
          },
          "metadata": {}
        }
      ]
    },
    {
      "cell_type": "code",
      "source": [
        "koi_learning.info()"
      ],
      "metadata": {
        "id": "wAGcWhTZ_cpf",
        "colab": {
          "base_uri": "https://localhost:8080/"
        },
        "outputId": "6c64a60b-c089-4f20-c611-697348e857ca"
      },
      "execution_count": 11,
      "outputs": [
        {
          "output_type": "stream",
          "name": "stdout",
          "text": [
            "<class 'pandas.core.frame.DataFrame'>\n",
            "Index: 9563 entries, 0 to 9563\n",
            "Data columns (total 19 columns):\n",
            " #   Column             Non-Null Count  Dtype  \n",
            "---  ------             --------------  -----  \n",
            " 0   kepoi_name         9563 non-null   object \n",
            " 1   koi_disposition    9563 non-null   object \n",
            " 2   koi_period         9563 non-null   float64\n",
            " 3   koi_duration       9563 non-null   float64\n",
            " 4   koi_depth          9563 non-null   float64\n",
            " 5   koi_prad           9563 non-null   float64\n",
            " 6   koi_steff          9563 non-null   float64\n",
            " 7   koi_slogg          9563 non-null   float64\n",
            " 8   koi_srad           9563 non-null   float64\n",
            " 9   koi_kepmag         9563 non-null   float64\n",
            " 10  koi_depth_missing  9563 non-null   int8   \n",
            " 11  koi_prad_missing   9563 non-null   int8   \n",
            " 12  koi_srad_missing   9563 non-null   int8   \n",
            " 13  koi_steff_missing  9563 non-null   int8   \n",
            " 14  koi_slogg_missing  9563 non-null   int8   \n",
            " 15  koi_period_log     9563 non-null   float64\n",
            " 16  koi_depth_log      9563 non-null   float64\n",
            " 17  koi_prad_log       9563 non-null   float64\n",
            " 18  koi_srad_log       9563 non-null   float64\n",
            "dtypes: float64(12), int8(5), object(2)\n",
            "memory usage: 1.1+ MB\n"
          ]
        }
      ]
    },
    {
      "cell_type": "code",
      "source": [
        "save_data(koi_learning, \"cleaned/KOI_clean_for_learning.csv\")"
      ],
      "metadata": {
        "id": "EHtlPDJhAL_8",
        "colab": {
          "base_uri": "https://localhost:8080/"
        },
        "outputId": "d42e11fd-4fc6-4ffa-ef8d-cdd3f9bdbb38"
      },
      "execution_count": 12,
      "outputs": [
        {
          "output_type": "stream",
          "name": "stdout",
          "text": [
            "File saved to: /content/drive/MyDrive/NASA_Challenge/data/cleaned/KOI_clean_for_learning.csv\n"
          ]
        }
      ]
    },
    {
      "cell_type": "markdown",
      "source": [
        "# Extended dataset with Optional columns"
      ],
      "metadata": {
        "id": "eLcSf2W9XOcL"
      }
    },
    {
      "cell_type": "code",
      "source": [
        "# Define optional diagnostic/flag columns\n",
        "optional_cols = [\"koi_impact\", \"koi_model_snr\",\n",
        "                 \"koi_fpflag_nt\", \"koi_fpflag_ss\",\n",
        "                 \"koi_fpflag_co\",\"koi_fpflag_ec\"]\n",
        "\n",
        "koi_extended = koi_learning.copy()\n",
        "\n",
        "for col in optional_cols:\n",
        "    if col in koi.columns:\n",
        "        koi_extended[col] = koi[col]\n",
        "\n",
        "save_data(koi_extended, \"cleaned/KOI_clean_with_optional.csv\")\n",
        "\n",
        "koi_extended.info()"
      ],
      "metadata": {
        "id": "-Wny2yN1Xs5F",
        "colab": {
          "base_uri": "https://localhost:8080/"
        },
        "outputId": "c2a0e73f-9293-4bfb-ca95-e2174212e3e0"
      },
      "execution_count": 13,
      "outputs": [
        {
          "output_type": "stream",
          "name": "stdout",
          "text": [
            "File saved to: /content/drive/MyDrive/NASA_Challenge/data/cleaned/KOI_clean_with_optional.csv\n",
            "<class 'pandas.core.frame.DataFrame'>\n",
            "Index: 9563 entries, 0 to 9563\n",
            "Data columns (total 25 columns):\n",
            " #   Column             Non-Null Count  Dtype  \n",
            "---  ------             --------------  -----  \n",
            " 0   kepoi_name         9563 non-null   object \n",
            " 1   koi_disposition    9563 non-null   object \n",
            " 2   koi_period         9563 non-null   float64\n",
            " 3   koi_duration       9563 non-null   float64\n",
            " 4   koi_depth          9563 non-null   float64\n",
            " 5   koi_prad           9563 non-null   float64\n",
            " 6   koi_steff          9563 non-null   float64\n",
            " 7   koi_slogg          9563 non-null   float64\n",
            " 8   koi_srad           9563 non-null   float64\n",
            " 9   koi_kepmag         9563 non-null   float64\n",
            " 10  koi_depth_missing  9563 non-null   int8   \n",
            " 11  koi_prad_missing   9563 non-null   int8   \n",
            " 12  koi_srad_missing   9563 non-null   int8   \n",
            " 13  koi_steff_missing  9563 non-null   int8   \n",
            " 14  koi_slogg_missing  9563 non-null   int8   \n",
            " 15  koi_period_log     9563 non-null   float64\n",
            " 16  koi_depth_log      9563 non-null   float64\n",
            " 17  koi_prad_log       9563 non-null   float64\n",
            " 18  koi_srad_log       9563 non-null   float64\n",
            " 19  koi_impact         9200 non-null   float64\n",
            " 20  koi_model_snr      9200 non-null   float64\n",
            " 21  koi_fpflag_nt      9563 non-null   int64  \n",
            " 22  koi_fpflag_ss      9563 non-null   int64  \n",
            " 23  koi_fpflag_co      9563 non-null   int64  \n",
            " 24  koi_fpflag_ec      9563 non-null   int64  \n",
            "dtypes: float64(14), int64(4), int8(5), object(2)\n",
            "memory usage: 1.6+ MB\n"
          ]
        }
      ]
    }
  ]
}